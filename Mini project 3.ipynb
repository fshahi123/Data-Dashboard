{
 "cells": [
  {
   "cell_type": "code",
   "execution_count": 1,
   "id": "83e5c132-fb6f-4c56-a66d-2a1a9947b9ea",
   "metadata": {},
   "outputs": [],
   "source": [
    "# I will import libs"
   ]
  },
  {
   "cell_type": "code",
   "execution_count": 4,
   "id": "07967a5a-412a-4876-875c-f269fa60a908",
   "metadata": {},
   "outputs": [],
   "source": [
    "import dash\n",
    "from dash import dcc, html\n",
    "import pandas as pd\n",
    "import requests\n",
    "import plotly.graph_objs as go\n",
    "from dash.dependencies import Input, Output"
   ]
  },
  {
   "cell_type": "code",
   "execution_count": 6,
   "id": "3b4cb0cc-d870-4ed4-ad58-5a23eb2f7848",
   "metadata": {},
   "outputs": [],
   "source": [
    "# I will design and starting the web app"
   ]
  },
  {
   "cell_type": "code",
   "execution_count": 8,
   "id": "684dc429-56a9-463e-b29e-5c903530af2e",
   "metadata": {},
   "outputs": [
    {
     "data": {
      "text/html": [
       "\n",
       "        <iframe\n",
       "            width=\"100%\"\n",
       "            height=\"650\"\n",
       "            src=\"http://127.0.0.1:8050/\"\n",
       "            frameborder=\"0\"\n",
       "            allowfullscreen\n",
       "            \n",
       "        ></iframe>\n",
       "        "
      ],
      "text/plain": [
       "<IPython.lib.display.IFrame at 0x293ceae6180>"
      ]
     },
     "metadata": {},
     "output_type": "display_data"
    }
   ],
   "source": [
    "app = dash.Dash(__name__)\n",
    "\n",
    "app.layout = html.Div([\n",
    "    html.H1(\"Real-Time Stock Price Dashboard\"),\n",
    "    dcc.Dropdown(\n",
    "        id='stock-dropdown',\n",
    "        options=[\n",
    "            {'label': 'Apple', 'value': 'AAPL'},\n",
    "            {'label': 'Google', 'value': 'GOOGL'},\n",
    "            {'label': 'Amazon', 'value': 'AMZN'},\n",
    "            {'label': 'Tesla', 'value': 'TSLA'}\n",
    "        ],\n",
    "        value='AAPL'\n",
    "    ),\n",
    "    dcc.Graph(id='live-graph'),\n",
    "    dcc.Interval(\n",
    "        id='interval-component',\n",
    "        interval=100*1000,  # 10 seconds in milliseconds\n",
    "        n_intervals=0\n",
    "    )\n",
    "])\n",
    "\n",
    "def fetch_stock_data(symbol):\n",
    "    api_key = 'HI7TGUC8NAMVHL4I'  # Replace with your Alpha Vantage API key\n",
    "    url = f'https://www.alphavantage.co/query?function=TIME_SERIES_INTRADAY&symbol={symbol}&interval=1min&apikey={api_key}'\n",
    "    response = requests.get(url)\n",
    "    data = response.json()\n",
    "\n",
    "    # Print the data for debugging if the key is missing\n",
    "    if 'Time Series (1min)' not in data:\n",
    "        print(f\"Error in API response: {data}\")  # For debugging, print the full response\n",
    "        return None  # Return None if data is invalid\n",
    "\n",
    "    return data\n",
    "\n",
    "@app.callback(\n",
    "    Output('live-graph', 'figure'),\n",
    "    [Input('stock-dropdown', 'value'),\n",
    "     Input('interval-component', 'n_intervals')]\n",
    ")\n",
    "def update_graph(selected_stock, n):\n",
    "    data = fetch_stock_data(selected_stock)\n",
    "\n",
    "    # Handle case when data is None (due to API errors)\n",
    "    if data is None:\n",
    "        return go.Figure()  # Return an empty figure if no valid data is fetched\n",
    "\n",
    "    time_series = data.get('Time Series (1min)', {})\n",
    "\n",
    "    if not time_series:\n",
    "        return go.Figure()  # Return empty figure if no time series data is available\n",
    "\n",
    "    # Prepare data for plotting\n",
    "    times = list(time_series.keys())\n",
    "    times.sort()  # Sort times in ascending order\n",
    "    prices = [float(time_series[time]['1. open']) for time in times]\n",
    "\n",
    "    # Create the figure\n",
    "    figure = go.Figure()\n",
    "    figure.add_trace(go.Scatter(x=times, y=prices, mode='lines+markers', name=selected_stock))\n",
    "    figure.update_layout(title=f'Real-Time Stock Price for {selected_stock}', xaxis_title='Time', yaxis_title='Price (USD)')\n",
    "\n",
    "    return figure\n",
    "\n",
    "if __name__ == '__main__':\n",
    "    app.run_server(debug=True)"
   ]
  },
  {
   "cell_type": "code",
   "execution_count": null,
   "id": "2638caab-189a-4288-930f-363be8acc550",
   "metadata": {},
   "outputs": [],
   "source": []
  }
 ],
 "metadata": {
  "kernelspec": {
   "display_name": "Python 3 (ipykernel)",
   "language": "python",
   "name": "python3"
  },
  "language_info": {
   "codemirror_mode": {
    "name": "ipython",
    "version": 3
   },
   "file_extension": ".py",
   "mimetype": "text/x-python",
   "name": "python",
   "nbconvert_exporter": "python",
   "pygments_lexer": "ipython3",
   "version": "3.12.4"
  }
 },
 "nbformat": 4,
 "nbformat_minor": 5
}
